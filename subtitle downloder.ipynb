{
 "cells": [
  {
   "cell_type": "markdown",
   "metadata": {},
   "source": [
    "### importing modules and nameing home url\n"
   ]
  },
  {
   "cell_type": "code",
   "execution_count": 63,
   "metadata": {},
   "outputs": [],
   "source": [
    "import requests, zipfile, io\n",
    "from bs4 import BeautifulSoup\n",
    "home = \"https://yts-subs.com\"\n",
    "link=\"https://yts-subs.com/language/english?page=3\""
   ]
  },
  {
   "cell_type": "markdown",
   "metadata": {},
   "source": [
    "### opening website"
   ]
  },
  {
   "cell_type": "code",
   "execution_count": 64,
   "metadata": {},
   "outputs": [],
   "source": [
    "source=requests.get(link).text\n",
    "soup = BeautifulSoup(source, \"lxml\")"
   ]
  },
  {
   "cell_type": "markdown",
   "metadata": {},
   "source": [
    "### storing main page links of all 20 link in page_links"
   ]
  },
  {
   "cell_type": "code",
   "execution_count": 65,
   "metadata": {},
   "outputs": [],
   "source": [
    "page_link = []\n",
    "page_link_block = soup.findAll(\"li\", class_=\"media\")\n",
    "for i in page_link_block:\n",
    "    page_link.append(home + i.div.a[\"href\"])\n",
    "    "
   ]
  },
  {
   "cell_type": "markdown",
   "metadata": {},
   "source": [
    "### going to download page and geting links for english language"
   ]
  },
  {
   "cell_type": "code",
   "execution_count": 66,
   "metadata": {},
   "outputs": [],
   "source": [
    "link_for_english=[]\n",
    "for i in page_link:\n",
    "\n",
    "    source=requests.get(i).text\n",
    "    soup = BeautifulSoup(source, \"lxml\")\n",
    "    all_language = soup.findAll(\"span\", class_=\"sub-lang\")\n",
    "\n",
    "    for index, word in enumerate(all_language):\n",
    "        if word.text==\"English\":\n",
    "            index_for_english=index\n",
    "\n",
    "    all_language_link = soup.findAll(\"a\", class_=\"subtitle-download\")\n",
    "    link_for_english.append(home + all_language_link[index_for_english][\"href\"])\n",
    "    "
   ]
  },
  {
   "cell_type": "code",
   "execution_count": 67,
   "metadata": {},
   "outputs": [],
   "source": [
    "zip_link = []\n",
    "for i in link_for_english:\n",
    "    source=requests.get(i).text\n",
    "    soup = BeautifulSoup(source, \"lxml\")\n",
    "\n",
    "    zip_link.append(soup.find(\"a\", class_=\"download-subtitle\")[\"href\"])\n"
   ]
  },
  {
   "cell_type": "code",
   "execution_count": 68,
   "metadata": {},
   "outputs": [],
   "source": [
    "for i in zip_link:\n",
    "    r = requests.get(i)\n",
    "    z = zipfile.ZipFile(io.BytesIO(r.content))\n",
    "    z.extractall(\"D:\\Coding\\Python\\words\\scripted doenload after 200\")"
   ]
  },
  {
   "cell_type": "code",
   "execution_count": null,
   "metadata": {},
   "outputs": [],
   "source": []
  }
 ],
 "metadata": {
  "language_info": {
   "name": "python",
   "codemirror_mode": {
    "name": "ipython",
    "version": 3
   },
   "version": "3.7.2-final"
  },
  "orig_nbformat": 2,
  "file_extension": ".py",
  "mimetype": "text/x-python",
  "name": "python",
  "npconvert_exporter": "python",
  "pygments_lexer": "ipython3",
  "version": 3,
  "kernelspec": {
   "name": "python37232bita90f69ccc22747c3b135ec030e8e536e",
   "display_name": "Python 3.7.2 32-bit"
  }
 },
 "nbformat": 4,
 "nbformat_minor": 2
}