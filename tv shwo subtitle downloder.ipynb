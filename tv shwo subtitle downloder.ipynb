{
 "cells": [
  {
   "cell_type": "code",
   "execution_count": 1,
   "metadata": {},
   "outputs": [],
   "source": [
    "import requests, zipfile, io\n",
    "from bs4 import BeautifulSoup\n",
    "home = \"http://www.tvsubtitles.net/\""
   ]
  },
  {
   "cell_type": "code",
   "execution_count": 22,
   "metadata": {},
   "outputs": [],
   "source": [
    "source=requests.get(home+\"tvshows.html\").text\n",
    "soup=BeautifulSoup(source, \"lxml\")\n",
    "\n",
    "links_table=soup.find(\"table\", id= \"table5\")\n",
    "seasons=[i[\"href\"] for i in links_table.findAll(\"a\")]"
   ]
  },
  {
   "cell_type": "code",
   "execution_count": 23,
   "metadata": {},
   "outputs": [
    {
     "data": {
      "text/plain": [
       "['tvshow-3007-0.html',\n",
       " 'tvshow-634-10.html',\n",
       " 'tvshow-2220-1.html',\n",
       " 'tvshow-486-1.html',\n",
       " 'tvshow-700-1.html',\n",
       " 'tvshow-1110-1.html',\n",
       " 'tvshow-1938-1.html',\n",
       " 'tvshow-1655-3.html']"
      ]
     },
     "execution_count": 23,
     "metadata": {},
     "output_type": "execute_result"
    }
   ],
   "source": [
    "seasons=seasons[:8]\n",
    "len(seasons)\n",
    "seasons\n"
   ]
  },
  {
   "cell_type": "code",
   "execution_count": null,
   "metadata": {},
   "outputs": [],
   "source": []
  },
  {
   "cell_type": "code",
   "execution_count": 28,
   "metadata": {},
   "outputs": [
    {
     "name": "stdin",
     "output_type": "stream",
     "text": [
      "0\n",
      "there is error in episode link a\n"
     ]
    },
    {
     "name": "stdout",
     "output_type": "stream",
     "text": [
      "appended\n",
      "appended\n",
      "appended\n",
      "appended\n",
      "appended\n",
      "appended\n",
      "appended\n",
      "appended\n",
      "appended\n",
      "appended\n",
      "appended\n"
     ]
    }
   ],
   "source": [
    "zip_link_page=[]\n",
    "for j,i in enumerate(seasons):\n",
    "    try:\n",
    "        source=requests.get(home + i).text\n",
    "        soup=BeautifulSoup(source, \"lxml\")\n",
    "\n",
    "        download_link=soup.find(\"table\", id= \"table5\")\n",
    "        episode=download_link.findAll(\"a\")[-1][\"href\"]\n",
    "        zip_link_page.append(episode)\n",
    "    \n",
    "    except:\n",
    "        print(f\"{j}\\nthere is error in episode link\")\n",
    "    \n",
    "    \n",
    "    try:\n",
    "        other_seasons_table=soup.find(\"p\", class_=\"description\")\n",
    "        other_seasons_link=[i[\"href\"] for i in other_seasons_table.findAll(\"a\")]\n",
    "        \n",
    "        for i in other_seasons_link:\n",
    "            source=requests.get(home + i).text\n",
    "            soup=BeautifulSoup(source, \"lxml\")\n",
    "\n",
    "            download_link=soup.find(\"table\", id= \"table5\")\n",
    "            episode=download_link.findAll(\"a\")[-1][\"href\"]\n",
    "            zip_link_page.append(episode)\n",
    "            \n",
    "    except:\n",
    "        print(\"there is an error in other seasons link\")"
   ]
  },
  {
   "cell_type": "code",
   "execution_count": 54,
   "metadata": {},
   "outputs": [],
   "source": [
    "zip_file=[]\n",
    "for i in zip_link_page:\n",
    "    source=requests.get(home + i).text\n",
    "    soup=BeautifulSoup(source, \"lxml\")\n",
    "    \n",
    "    zip_file.append(soup.find(\"div\", class_=\"subtitle1\").find(\"a\")[\"href\"])\n",
    "    "
   ]
  },
  {
   "cell_type": "code",
   "execution_count": 57,
   "metadata": {},
   "outputs": [],
   "source": [
    "err=0\n",
    "for i in zip_file:\n",
    "    try:\n",
    "        r = requests.get(home + i)\n",
    "        z = zipfile.ZipFile(io.BytesIO(r.content))\n",
    "        z.extractall(\"D:\\Coding\\Python\\\\test\\\\tv_shows\\\\\")\n",
    "        \n",
    "    except:\n",
    "        err+=1\n",
    "\n",
    "prinr(err)"
   ]
  },
  {
   "cell_type": "code",
   "execution_count": null,
   "metadata": {},
   "outputs": [],
   "source": []
  }
 ],
 "metadata": {
  "file_extension": ".py",
  "kernelspec": {
   "display_name": "Python 3.7.2 32-bit",
   "language": "python",
   "name": "python37232bita90f69ccc22747c3b135ec030e8e536e"
  },
  "language_info": {
   "codemirror_mode": {
    "name": "ipython",
    "version": 3
   },
   "file_extension": ".py",
   "mimetype": "text/x-python",
   "name": "python",
   "nbconvert_exporter": "python",
   "pygments_lexer": "ipython3",
   "version": "3.7.2"
  },
  "mimetype": "text/x-python",
  "name": "python",
  "npconvert_exporter": "python",
  "pygments_lexer": "ipython3",
  "version": 3
 },
 "nbformat": 4,
 "nbformat_minor": 4
}
